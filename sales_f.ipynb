{
 "cells": [
  {
   "cell_type": "code",
   "execution_count": 1,
   "metadata": {},
   "outputs": [],
   "source": [
    "import pandas as pd\n",
    "import numpy as np\n",
    "import matplotlib.pyplot as plt\n",
    "import seaborn as sns"
   ]
  },
  {
   "cell_type": "code",
   "execution_count": 2,
   "metadata": {},
   "outputs": [],
   "source": [
    "ds=pd.read_csv('sales.csv')"
   ]
  },
  {
   "cell_type": "code",
   "execution_count": 3,
   "metadata": {},
   "outputs": [
    {
     "data": {
      "text/html": [
       "<div>\n",
       "<style scoped>\n",
       "    .dataframe tbody tr th:only-of-type {\n",
       "        vertical-align: middle;\n",
       "    }\n",
       "\n",
       "    .dataframe tbody tr th {\n",
       "        vertical-align: top;\n",
       "    }\n",
       "\n",
       "    .dataframe thead th {\n",
       "        text-align: right;\n",
       "    }\n",
       "</style>\n",
       "<table border=\"1\" class=\"dataframe\">\n",
       "  <thead>\n",
       "    <tr style=\"text-align: right;\">\n",
       "      <th></th>\n",
       "      <th>Unnamed: 0</th>\n",
       "      <th>TV</th>\n",
       "      <th>radio</th>\n",
       "      <th>newspaper</th>\n",
       "      <th>sales</th>\n",
       "    </tr>\n",
       "  </thead>\n",
       "  <tbody>\n",
       "    <tr>\n",
       "      <th>0</th>\n",
       "      <td>1</td>\n",
       "      <td>230.1</td>\n",
       "      <td>37.8</td>\n",
       "      <td>69.2</td>\n",
       "      <td>22.1</td>\n",
       "    </tr>\n",
       "    <tr>\n",
       "      <th>1</th>\n",
       "      <td>2</td>\n",
       "      <td>44.5</td>\n",
       "      <td>39.3</td>\n",
       "      <td>45.1</td>\n",
       "      <td>10.4</td>\n",
       "    </tr>\n",
       "    <tr>\n",
       "      <th>2</th>\n",
       "      <td>3</td>\n",
       "      <td>17.2</td>\n",
       "      <td>45.9</td>\n",
       "      <td>69.3</td>\n",
       "      <td>9.3</td>\n",
       "    </tr>\n",
       "    <tr>\n",
       "      <th>3</th>\n",
       "      <td>4</td>\n",
       "      <td>151.5</td>\n",
       "      <td>41.3</td>\n",
       "      <td>58.5</td>\n",
       "      <td>18.5</td>\n",
       "    </tr>\n",
       "    <tr>\n",
       "      <th>4</th>\n",
       "      <td>5</td>\n",
       "      <td>180.8</td>\n",
       "      <td>10.8</td>\n",
       "      <td>58.4</td>\n",
       "      <td>12.9</td>\n",
       "    </tr>\n",
       "  </tbody>\n",
       "</table>\n",
       "</div>"
      ],
      "text/plain": [
       "   Unnamed: 0     TV  radio  newspaper  sales\n",
       "0           1  230.1   37.8       69.2   22.1\n",
       "1           2   44.5   39.3       45.1   10.4\n",
       "2           3   17.2   45.9       69.3    9.3\n",
       "3           4  151.5   41.3       58.5   18.5\n",
       "4           5  180.8   10.8       58.4   12.9"
      ]
     },
     "execution_count": 3,
     "metadata": {},
     "output_type": "execute_result"
    }
   ],
   "source": [
    "ds.head()"
   ]
  },
  {
   "cell_type": "code",
   "execution_count": 4,
   "metadata": {},
   "outputs": [],
   "source": [
    "ds.drop('Unnamed: 0',inplace=True,axis=1)"
   ]
  },
  {
   "cell_type": "code",
   "execution_count": 5,
   "metadata": {},
   "outputs": [
    {
     "data": {
      "text/html": [
       "<div>\n",
       "<style scoped>\n",
       "    .dataframe tbody tr th:only-of-type {\n",
       "        vertical-align: middle;\n",
       "    }\n",
       "\n",
       "    .dataframe tbody tr th {\n",
       "        vertical-align: top;\n",
       "    }\n",
       "\n",
       "    .dataframe thead th {\n",
       "        text-align: right;\n",
       "    }\n",
       "</style>\n",
       "<table border=\"1\" class=\"dataframe\">\n",
       "  <thead>\n",
       "    <tr style=\"text-align: right;\">\n",
       "      <th></th>\n",
       "      <th>TV</th>\n",
       "      <th>radio</th>\n",
       "      <th>newspaper</th>\n",
       "      <th>sales</th>\n",
       "    </tr>\n",
       "  </thead>\n",
       "  <tbody>\n",
       "    <tr>\n",
       "      <th>0</th>\n",
       "      <td>230.1</td>\n",
       "      <td>37.8</td>\n",
       "      <td>69.2</td>\n",
       "      <td>22.1</td>\n",
       "    </tr>\n",
       "    <tr>\n",
       "      <th>1</th>\n",
       "      <td>44.5</td>\n",
       "      <td>39.3</td>\n",
       "      <td>45.1</td>\n",
       "      <td>10.4</td>\n",
       "    </tr>\n",
       "    <tr>\n",
       "      <th>2</th>\n",
       "      <td>17.2</td>\n",
       "      <td>45.9</td>\n",
       "      <td>69.3</td>\n",
       "      <td>9.3</td>\n",
       "    </tr>\n",
       "    <tr>\n",
       "      <th>3</th>\n",
       "      <td>151.5</td>\n",
       "      <td>41.3</td>\n",
       "      <td>58.5</td>\n",
       "      <td>18.5</td>\n",
       "    </tr>\n",
       "    <tr>\n",
       "      <th>4</th>\n",
       "      <td>180.8</td>\n",
       "      <td>10.8</td>\n",
       "      <td>58.4</td>\n",
       "      <td>12.9</td>\n",
       "    </tr>\n",
       "  </tbody>\n",
       "</table>\n",
       "</div>"
      ],
      "text/plain": [
       "      TV  radio  newspaper  sales\n",
       "0  230.1   37.8       69.2   22.1\n",
       "1   44.5   39.3       45.1   10.4\n",
       "2   17.2   45.9       69.3    9.3\n",
       "3  151.5   41.3       58.5   18.5\n",
       "4  180.8   10.8       58.4   12.9"
      ]
     },
     "execution_count": 5,
     "metadata": {},
     "output_type": "execute_result"
    }
   ],
   "source": [
    "ds.head()"
   ]
  },
  {
   "cell_type": "code",
   "execution_count": 6,
   "metadata": {},
   "outputs": [
    {
     "data": {
      "text/plain": [
       "(array([26., 15., 21., 18., 19., 17., 22., 26., 20., 16.]),\n",
       " array([  0.7 ,  30.27,  59.84,  89.41, 118.98, 148.55, 178.12, 207.69,\n",
       "        237.26, 266.83, 296.4 ]),\n",
       " <a list of 10 Patch objects>)"
      ]
     },
     "execution_count": 6,
     "metadata": {},
     "output_type": "execute_result"
    },
    {
     "data": {
      "image/png": "[encoded data removed]",
      "text/plain": [
       "<Figure size 432x288 with 1 Axes>"
      ]
     },
     "metadata": {
      "needs_background": "light"
     },
     "output_type": "display_data"
    }
   ],
   "source": [
    "plt.hist('TV',data=ds)"
   ]
  },
  {
   "cell_type": "code",
   "execution_count": 7,
   "metadata": {},
   "outputs": [
    {
     "data": {
      "text/plain": [
       "(array([30., 20., 21., 17., 18., 23., 14., 21., 21., 15.]),\n",
       " array([ 0.  ,  4.96,  9.92, 14.88, 19.84, 24.8 , 29.76, 34.72, 39.68,\n",
       "        44.64, 49.6 ]),\n",
       " <a list of 10 Patch objects>)"
      ]
     },
     "execution_count": 7,
     "metadata": {},
     "output_type": "execute_result"
    },
    {
     "data": {
      "image/png": "[encoded data removed]",
      "text/plain": [
       "<Figure size 432x288 with 1 Axes>"
      ]
     },
     "metadata": {
      "needs_background": "light"
     },
     "output_type": "display_data"
    }
   ],
   "source": [
    "plt.hist('radio',data=ds)"
   ]
  },
  {
   "cell_type": "code",
   "execution_count": 8,
   "metadata": {},
   "outputs": [
    {
     "data": {
      "text/plain": [
       "(array([47., 41., 35., 30., 21., 13.,  9.,  2.,  1.,  1.]),\n",
       " array([  0.3 ,  11.67,  23.04,  34.41,  45.78,  57.15,  68.52,  79.89,\n",
       "         91.26, 102.63, 114.  ]),\n",
       " <a list of 10 Patch objects>)"
      ]
     },
     "execution_count": 8,
     "metadata": {},
     "output_type": "execute_result"
    },
    {
     "data": {
      "image/png": "[encoded data removed]",
      "text/plain": [
       "<Figure size 432x288 with 1 Axes>"
      ]
     },
     "metadata": {
      "needs_background": "light"
     },
     "output_type": "display_data"
    }
   ],
   "source": [
    "plt.hist('newspaper',data=ds)"
   ]
  },
  {
   "cell_type": "code",
   "execution_count": 9,
   "metadata": {},
   "outputs": [
    {
     "data": {
      "text/plain": [
       "<matplotlib.axes._subplots.AxesSubplot at 0x208dafd50d0>"
      ]
     },
     "execution_count": 9,
     "metadata": {},
     "output_type": "execute_result"
    },
    {
     "data": {
      "image/png": "[encoded data removed]",
      "text/plain": [
       "<Figure size 432x288 with 1 Axes>"
      ]
     },
     "metadata": {
      "needs_background": "light"
     },
     "output_type": "display_data"
    }
   ],
   "source": [
    "sns.scatterplot(x='TV',y='sales',data=ds)"
   ]
  },
  {
   "cell_type": "code",
   "execution_count": 10,
   "metadata": {},
   "outputs": [
    {
     "data": {
      "text/plain": [
       "<matplotlib.axes._subplots.AxesSubplot at 0x208db063100>"
      ]
     },
     "execution_count": 10,
     "metadata": {},
     "output_type": "execute_result"
    },
    {
     "data": {
      "image/png": "[encoded data removed]",
      "text/plain": [
       "<Figure size 432x288 with 1 Axes>"
      ]
     },
     "metadata": {
      "needs_background": "light"
     },
     "output_type": "display_data"
    }
   ],
   "source": [
    "sns.scatterplot(x='radio',y='sales',data=ds)"
   ]
  },
  {
   "cell_type": "code",
   "execution_count": 11,
   "metadata": {},
   "outputs": [
    {
     "data": {
      "text/plain": [
       "<matplotlib.axes._subplots.AxesSubplot at 0x208db0b4400>"
      ]
     },
     "execution_count": 11,
     "metadata": {},
     "output_type": "execute_result"
    },
    {
     "data": {
      "image/png": "[encoded data removed]",
      "text/plain": [
       "<Figure size 432x288 with 1 Axes>"
      ]
     },
     "metadata": {
      "needs_background": "light"
     },
     "output_type": "display_data"
    }
   ],
   "source": [
    "sns.scatterplot(x='newspaper',y='sales',data=ds)"
   ]
  },
  {
   "cell_type": "code",
   "execution_count": 12,
   "metadata": {},
   "outputs": [
    {
     "name": "stdout",
     "output_type": "stream",
     "text": [
      "(200, 4)\n",
      "(198, 4)\n"
     ]
    }
   ],
   "source": [
    "from scipy.stats import zscore\n",
    "z_score=abs(zscore(ds))\n",
    "print(ds.shape)\n",
    "ds_fin = ds.loc[(z_score<3).all(axis=1)]\n",
    "print(ds_fin.shape)"
   ]
  },
  {
   "cell_type": "code",
   "execution_count": 13,
   "metadata": {},
   "outputs": [
    {
     "data": {
      "text/html": [
       "<div>\n",
       "<style scoped>\n",
       "    .dataframe tbody tr th:only-of-type {\n",
       "        vertical-align: middle;\n",
       "    }\n",
       "\n",
       "    .dataframe tbody tr th {\n",
       "        vertical-align: top;\n",
       "    }\n",
       "\n",
       "    .dataframe thead th {\n",
       "        text-align: right;\n",
       "    }\n",
       "</style>\n",
       "<table border=\"1\" class=\"dataframe\">\n",
       "  <thead>\n",
       "    <tr style=\"text-align: right;\">\n",
       "      <th></th>\n",
       "      <th>TV</th>\n",
       "      <th>radio</th>\n",
       "      <th>newspaper</th>\n",
       "      <th>sales</th>\n",
       "    </tr>\n",
       "  </thead>\n",
       "  <tbody>\n",
       "    <tr>\n",
       "      <th>count</th>\n",
       "      <td>198.000000</td>\n",
       "      <td>198.000000</td>\n",
       "      <td>198.000000</td>\n",
       "      <td>198.000000</td>\n",
       "    </tr>\n",
       "    <tr>\n",
       "      <th>mean</th>\n",
       "      <td>146.688384</td>\n",
       "      <td>23.130808</td>\n",
       "      <td>29.777273</td>\n",
       "      <td>13.980808</td>\n",
       "    </tr>\n",
       "    <tr>\n",
       "      <th>std</th>\n",
       "      <td>85.443221</td>\n",
       "      <td>14.862111</td>\n",
       "      <td>20.446303</td>\n",
       "      <td>5.196097</td>\n",
       "    </tr>\n",
       "    <tr>\n",
       "      <th>min</th>\n",
       "      <td>0.700000</td>\n",
       "      <td>0.000000</td>\n",
       "      <td>0.300000</td>\n",
       "      <td>1.600000</td>\n",
       "    </tr>\n",
       "    <tr>\n",
       "      <th>25%</th>\n",
       "      <td>74.800000</td>\n",
       "      <td>9.925000</td>\n",
       "      <td>12.650000</td>\n",
       "      <td>10.325000</td>\n",
       "    </tr>\n",
       "    <tr>\n",
       "      <th>50%</th>\n",
       "      <td>149.750000</td>\n",
       "      <td>22.400000</td>\n",
       "      <td>25.600000</td>\n",
       "      <td>12.900000</td>\n",
       "    </tr>\n",
       "    <tr>\n",
       "      <th>75%</th>\n",
       "      <td>218.475000</td>\n",
       "      <td>36.325000</td>\n",
       "      <td>44.050000</td>\n",
       "      <td>17.375000</td>\n",
       "    </tr>\n",
       "    <tr>\n",
       "      <th>max</th>\n",
       "      <td>293.600000</td>\n",
       "      <td>49.600000</td>\n",
       "      <td>89.400000</td>\n",
       "      <td>27.000000</td>\n",
       "    </tr>\n",
       "  </tbody>\n",
       "</table>\n",
       "</div>"
      ],
      "text/plain": [
       "               TV       radio   newspaper       sales\n",
       "count  198.000000  198.000000  198.000000  198.000000\n",
       "mean   146.688384   23.130808   29.777273   13.980808\n",
       "std     85.443221   14.862111   20.446303    5.196097\n",
       "min      0.700000    0.000000    0.300000    1.600000\n",
       "25%     74.800000    9.925000   12.650000   10.325000\n",
       "50%    149.750000   22.400000   25.600000   12.900000\n",
       "75%    218.475000   36.325000   44.050000   17.375000\n",
       "max    293.600000   49.600000   89.400000   27.000000"
      ]
     },
     "execution_count": 13,
     "metadata": {},
     "output_type": "execute_result"
    }
   ],
   "source": [
    "ds_fin.describe()"
   ]
  },
  {
   "cell_type": "code",
   "execution_count": 14,
   "metadata": {},
   "outputs": [
    {
     "data": {
      "image/png": "[encoded data removed]",
      "text/plain": [
       "<Figure size 432x288 with 2 Axes>"
      ]
     },
     "metadata": {
      "needs_background": "light"
     },
     "output_type": "display_data"
    }
   ],
   "source": [
    "sns.heatmap(ds_fin.corr(),color='k',annot=True)\n",
    "plt.show()"
   ]
  },
  {
   "cell_type": "code",
   "execution_count": 15,
   "metadata": {},
   "outputs": [
    {
     "data": {
      "text/plain": [
       "TV          -0.082332\n",
       "radio        0.114842\n",
       "newspaper    0.650112\n",
       "sales        0.407130\n",
       "dtype: float64"
      ]
     },
     "execution_count": 15,
     "metadata": {},
     "output_type": "execute_result"
    }
   ],
   "source": [
    "ds_fin.skew()"
   ]
  },
  {
   "cell_type": "code",
   "execution_count": 16,
   "metadata": {},
   "outputs": [
    {
     "name": "stderr",
     "output_type": "stream",
     "text": [
      "C:\\Users\\atakle\\Anaconda3\\lib\\site-packages\\pandas\\core\\frame.py:3990: SettingWithCopyWarning: \n",
      "A value is trying to be set on a copy of a slice from a DataFrame\n",
      "\n",
      "See the caveats in the documentation: https://pandas.pydata.org/pandas-docs/stable/user_guide/indexing.html#returning-a-view-versus-a-copy\n",
      "  return super().drop(\n"
     ]
    }
   ],
   "source": [
    "ds_fin.drop('newspaper',axis=1,inplace=True)"
   ]
  },
  {
   "cell_type": "code",
   "execution_count": 17,
   "metadata": {},
   "outputs": [
    {
     "data": {
      "text/html": [
       "<div>\n",
       "<style scoped>\n",
       "    .dataframe tbody tr th:only-of-type {\n",
       "        vertical-align: middle;\n",
       "    }\n",
       "\n",
       "    .dataframe tbody tr th {\n",
       "        vertical-align: top;\n",
       "    }\n",
       "\n",
       "    .dataframe thead th {\n",
       "        text-align: right;\n",
       "    }\n",
       "</style>\n",
       "<table border=\"1\" class=\"dataframe\">\n",
       "  <thead>\n",
       "    <tr style=\"text-align: right;\">\n",
       "      <th></th>\n",
       "      <th>TV</th>\n",
       "      <th>radio</th>\n",
       "      <th>sales</th>\n",
       "    </tr>\n",
       "  </thead>\n",
       "  <tbody>\n",
       "    <tr>\n",
       "      <th>0</th>\n",
       "      <td>230.1</td>\n",
       "      <td>37.8</td>\n",
       "      <td>22.1</td>\n",
       "    </tr>\n",
       "    <tr>\n",
       "      <th>1</th>\n",
       "      <td>44.5</td>\n",
       "      <td>39.3</td>\n",
       "      <td>10.4</td>\n",
       "    </tr>\n",
       "    <tr>\n",
       "      <th>2</th>\n",
       "      <td>17.2</td>\n",
       "      <td>45.9</td>\n",
       "      <td>9.3</td>\n",
       "    </tr>\n",
       "    <tr>\n",
       "      <th>3</th>\n",
       "      <td>151.5</td>\n",
       "      <td>41.3</td>\n",
       "      <td>18.5</td>\n",
       "    </tr>\n",
       "    <tr>\n",
       "      <th>4</th>\n",
       "      <td>180.8</td>\n",
       "      <td>10.8</td>\n",
       "      <td>12.9</td>\n",
       "    </tr>\n",
       "  </tbody>\n",
       "</table>\n",
       "</div>"
      ],
      "text/plain": [
       "      TV  radio  sales\n",
       "0  230.1   37.8   22.1\n",
       "1   44.5   39.3   10.4\n",
       "2   17.2   45.9    9.3\n",
       "3  151.5   41.3   18.5\n",
       "4  180.8   10.8   12.9"
      ]
     },
     "execution_count": 17,
     "metadata": {},
     "output_type": "execute_result"
    }
   ],
   "source": [
    "ds_fin.head()"
   ]
  },
  {
   "cell_type": "code",
   "execution_count": 18,
   "metadata": {},
   "outputs": [],
   "source": [
    "x=ds_fin.iloc[:,:-1]"
   ]
  },
  {
   "cell_type": "code",
   "execution_count": 19,
   "metadata": {},
   "outputs": [
    {
     "data": {
      "text/html": [
       "<div>\n",
       "<style scoped>\n",
       "    .dataframe tbody tr th:only-of-type {\n",
       "        vertical-align: middle;\n",
       "    }\n",
       "\n",
       "    .dataframe tbody tr th {\n",
       "        vertical-align: top;\n",
       "    }\n",
       "\n",
       "    .dataframe thead th {\n",
       "        text-align: right;\n",
       "    }\n",
       "</style>\n",
       "<table border=\"1\" class=\"dataframe\">\n",
       "  <thead>\n",
       "    <tr style=\"text-align: right;\">\n",
       "      <th></th>\n",
       "      <th>TV</th>\n",
       "      <th>radio</th>\n",
       "    </tr>\n",
       "  </thead>\n",
       "  <tbody>\n",
       "    <tr>\n",
       "      <th>0</th>\n",
       "      <td>230.1</td>\n",
       "      <td>37.8</td>\n",
       "    </tr>\n",
       "    <tr>\n",
       "      <th>1</th>\n",
       "      <td>44.5</td>\n",
       "      <td>39.3</td>\n",
       "    </tr>\n",
       "    <tr>\n",
       "      <th>2</th>\n",
       "      <td>17.2</td>\n",
       "      <td>45.9</td>\n",
       "    </tr>\n",
       "    <tr>\n",
       "      <th>3</th>\n",
       "      <td>151.5</td>\n",
       "      <td>41.3</td>\n",
       "    </tr>\n",
       "    <tr>\n",
       "      <th>4</th>\n",
       "      <td>180.8</td>\n",
       "      <td>10.8</td>\n",
       "    </tr>\n",
       "  </tbody>\n",
       "</table>\n",
       "</div>"
      ],
      "text/plain": [
       "      TV  radio\n",
       "0  230.1   37.8\n",
       "1   44.5   39.3\n",
       "2   17.2   45.9\n",
       "3  151.5   41.3\n",
       "4  180.8   10.8"
      ]
     },
     "execution_count": 19,
     "metadata": {},
     "output_type": "execute_result"
    }
   ],
   "source": [
    "x.head()"
   ]
  },
  {
   "cell_type": "code",
   "execution_count": 20,
   "metadata": {},
   "outputs": [],
   "source": [
    "y=ds_fin['sales']"
   ]
  },
  {
   "cell_type": "code",
   "execution_count": 21,
   "metadata": {},
   "outputs": [
    {
     "data": {
      "text/plain": [
       "array([[ 0.97869734,  0.98952135],\n",
       "       [-1.19901165,  1.09070498],\n",
       "       [-1.51933199,  1.53591293],\n",
       "       [ 0.05645636,  1.22561648],\n",
       "       [ 0.40024339, -0.83178391],\n",
       "       [-1.61906543,  1.73828018],\n",
       "       [-1.04647815,  0.6522426 ],\n",
       "       [-0.31079737, -0.23817331],\n",
       "       [-1.62023876, -1.41864895],\n",
       "       [ 0.62317696, -1.38492107],\n",
       "       [-0.94557138, -1.16906267],\n",
       "       [ 0.79800381,  0.05863199],\n",
       "       [-1.44189191,  0.80739083],\n",
       "       [-0.57714432, -1.04764232],\n",
       "       [ 0.67363035,  0.65898817],\n",
       "       [ 0.57155024,  1.65733328],\n",
       "       [ 1.58061798,  1.1109417 ],\n",
       "       [-0.90919801, -0.17746313],\n",
       "       [ 0.0071763 ,  0.05188642],\n",
       "       [ 0.84141719,  0.30821827],\n",
       "       [ 1.06435076, -1.21628169],\n",
       "       [-1.56626537, -0.48775959],\n",
       "       [ 0.95757732, -0.42030384],\n",
       "       [-0.99015809, -0.71036356],\n",
       "       [ 1.36355108, -1.32421089],\n",
       "       [-0.04445042,  0.41614747],\n",
       "       [ 1.0960308 , -0.43379499],\n",
       "       [ 1.19811091,  0.26774482],\n",
       "       [-0.89277132, -0.48101401],\n",
       "       [ 1.71555146,  0.34869172],\n",
       "       [-0.39645079, -0.38657596],\n",
       "       [-0.58066432, -1.4591224 ],\n",
       "       [ 1.39523112, -0.21119101],\n",
       "       [-0.59826434, -1.46586797],\n",
       "       [ 1.6897381 , -1.28373744],\n",
       "       [ 1.41048447,  1.39425586],\n",
       "       [-0.8446646 ,  1.77200806],\n",
       "       [-1.21543833,  0.24076252],\n",
       "       [ 0.95405731,  0.98277578],\n",
       "       [ 0.65485699, -0.05604278],\n",
       "       [ 0.35565668,  0.69271605],\n",
       "       [ 1.7237648 ,  0.30821827],\n",
       "       [ 0.70648372, -0.99367772],\n",
       "       [-1.42663856,  0.17330677],\n",
       "       [ 0.33336332, -0.04255163],\n",
       "       [-0.66866442, -0.89249409],\n",
       "       [ 1.09368413,  1.23910763],\n",
       "       [ 0.94467064, -0.49450516],\n",
       "       [-0.9361847 , -0.77107374],\n",
       "       [ 0.62317696, -1.35119319],\n",
       "       [-0.54311762, -0.91273082],\n",
       "       [ 0.8179505 ,  1.25259878],\n",
       "       [ 0.42136341,  1.55614966],\n",
       "       [ 1.36120441,  0.3824196 ],\n",
       "       [ 0.61261695,  1.77200806],\n",
       "       [-1.63549211,  0.33520057],\n",
       "       [-0.12306383, -0.26515561],\n",
       "       [ 0.75224376,  1.78549921],\n",
       "       [ 0.75107043,  0.42963862],\n",
       "       [-1.09341154, -1.42539452],\n",
       "       [ 1.34477773,  1.32005453],\n",
       "       [ 1.08664412, -0.51474189],\n",
       "       [-0.51613092,  0.4363842 ],\n",
       "       [-0.1829039 ,  1.32680011],\n",
       "       [-0.91154467, -0.93296754],\n",
       "       [-1.35154514,  0.09910544],\n",
       "       [-0.08669046, -0.58219764],\n",
       "       [ 1.06435076,  0.29472712],\n",
       "       [ 0.82264384,  1.40100143],\n",
       "       [ 0.61496362,  0.50383995],\n",
       "       [-0.43282416, -0.59568879],\n",
       "       [-1.40669187,  0.66573375],\n",
       "       [-0.20285059, -1.17580824],\n",
       "       [ 0.78275046,  0.09910544],\n",
       "       [-1.52285199,  1.38751028],\n",
       "       [-1.39847853, -1.45237682],\n",
       "       [-0.30727736,  0.36218287],\n",
       "       [-1.65778547,  0.45662092],\n",
       "       [-0.36007742, -1.04089674],\n",
       "       [-0.82471792,  0.24076252],\n",
       "       [ 1.09251079, -1.28373744],\n",
       "       [-0.8376246 , -0.19095428],\n",
       "       [-0.91858468,  1.44147488],\n",
       "       [ 0.7839238 ,  1.34029126],\n",
       "       [ 0.54573688, -0.31912021],\n",
       "       [-0.82589125,  0.29472712],\n",
       "       [-0.42226415,  1.17839745],\n",
       "       [-0.6850911 ,  0.15981562],\n",
       "       [-0.43282416,  1.66407886],\n",
       "       [-0.14535719, -1.22977284],\n",
       "       [-1.38557185, -1.4591224 ],\n",
       "       [ 0.83320385,  0.69946162],\n",
       "       [ 1.22275093,  0.90182888],\n",
       "       [-0.46098419, -0.61592551],\n",
       "       [ 0.19490984,  0.5712957 ],\n",
       "       [ 0.5973636 , -1.32421089],\n",
       "       [ 0.44835011, -0.14373526],\n",
       "       [ 1.67800475,  1.29307223],\n",
       "       [-0.13479718,  1.25259878],\n",
       "       [ 0.88835058, -1.27024629],\n",
       "       [ 1.56653796, -0.87900294],\n",
       "       [ 0.48355014, -0.40006711],\n",
       "       [ 1.07373744,  0.75342622],\n",
       "       [-0.10311715,  1.56964081],\n",
       "       [-1.42781189, -0.81829276],\n",
       "       [-0.66045107, -1.5400693 ],\n",
       "       [-1.56743871, -1.53332372],\n",
       "       [ 1.27555099,  0.25425367],\n",
       "       [ 0.92824395, -1.00716887],\n",
       "       [ 1.11480415,  1.0030125 ],\n",
       "       [ 0.34040333, -0.52148746],\n",
       "       [ 0.73816375, -0.17071756],\n",
       "       [-0.80359789,  1.59662311],\n",
       "       [-0.83997127,  0.80064525],\n",
       "       [-0.0878638 , -0.59568879],\n",
       "       [-0.82471792, -1.50634142],\n",
       "       [-0.24626397,  0.92881118],\n",
       "       [-1.49351863, -0.48101401],\n",
       "       [-0.06322377,  0.2475081 ],\n",
       "       [-1.50055864, -0.09651623],\n",
       "       [ 0.90712393, -1.39841222],\n",
       "       [-0.27677067,  0.77366295],\n",
       "       [ 0.97165733,  0.61851472],\n",
       "       [-0.69799778, -0.76432816],\n",
       "       [-1.62962544,  1.06372268],\n",
       "       [-0.7801312 , -1.56030602],\n",
       "       [ 0.86371055,  1.74502576],\n",
       "       [-1.02183813, -0.75083701],\n",
       "       [-1.7129322 ,  1.1109417 ],\n",
       "       [ 1.39053778, -1.36468434],\n",
       "       [-1.62258543,  0.2744904 ],\n",
       "       [ 0.85784388,  0.69946162],\n",
       "       [-1.28818508,  1.04348595],\n",
       "       [-1.15442493,  1.61011426],\n",
       "       [-1.42077188,  1.07046825],\n",
       "       [ 1.49027122,  0.38916517],\n",
       "       [-1.21661167,  0.18679792],\n",
       "       [ 0.44835011,  1.40100143],\n",
       "       [-0.85991795, -0.41355826],\n",
       "       [ 0.55160355,  0.82762755],\n",
       "       [ 0.86605722,  0.6792249 ],\n",
       "       [-0.49383756, -1.17580824],\n",
       "       [-0.59239767, -0.56196091],\n",
       "       [-0.07495712, -1.4321401 ],\n",
       "       [ 1.0960308 , -1.06787904],\n",
       "       [ 1.13240417,  1.74502576],\n",
       "       [-1.2752784 ,  1.15816073],\n",
       "       [-1.19666498,  0.18005234],\n",
       "       [ 1.57240464, -0.62267109],\n",
       "       [-0.30141069, -0.99367772],\n",
       "       [ 0.5973636 ,  0.01141297],\n",
       "       [ 0.2887766 ,  1.11768728],\n",
       "       [ 0.48237681, -0.13698968],\n",
       "       [-1.67303882, -0.77781931],\n",
       "       [-0.61938436,  1.37401913],\n",
       "       [ 0.03650967, -1.47261355],\n",
       "       [-1.58386539,  0.92881118],\n",
       "       [-0.17586389, -0.31912021],\n",
       "       [ 0.30285662, -0.33935694],\n",
       "       [-0.7155978 ,  0.85460985],\n",
       "       [ 0.48941682, -0.33935694],\n",
       "       [ 0.19725651,  0.9220656 ],\n",
       "       [-0.34599741, -0.56870649],\n",
       "       [ 1.03032406, -1.33095647],\n",
       "       [-1.51111865,  0.9760302 ],\n",
       "       [ 0.70531038, -1.20953612],\n",
       "       [ 0.80621716,  0.03164969],\n",
       "       [ 1.61464468, -0.84527507],\n",
       "       [-1.13447825, -0.77781931],\n",
       "       [ 0.20898985, -0.15048083],\n",
       "       [-1.49117196, -0.20444543],\n",
       "       [ 0.2547499 , -1.08137019],\n",
       "       [ 0.88835058, -1.33095647],\n",
       "       [ 1.52781792,  1.73828018],\n",
       "       [ 1.19341757,  0.47685765],\n",
       "       [ 0.27586992, -1.03415117],\n",
       "       [ 1.52547125, -1.4051578 ],\n",
       "       [ 0.22189653, -0.88574852],\n",
       "       [ 0.11629642, -1.38492107],\n",
       "       [ 0.84259053, -1.19604497],\n",
       "       [-1.0617315 , -1.17580824],\n",
       "       [ 1.65336472,  1.34029126],\n",
       "       [ 1.25677764, -0.12349853],\n",
       "       [ 0.68419036,  1.48194833],\n",
       "       [-0.08434379, -1.41864895],\n",
       "       [ 0.52109685,  0.37567402],\n",
       "       [ 1.63459137, -0.62267109],\n",
       "       [-1.50173197, -0.74409144],\n",
       "       [-1.25767838,  1.21212533],\n",
       "       [-0.83527793, -0.83178391],\n",
       "       [-1.51933199, -1.28373744],\n",
       "       [ 0.23597655,  1.2728355 ],\n",
       "       [ 0.03533633,  0.8411187 ],\n",
       "       [-1.27293173, -1.31071974],\n",
       "       [-0.61586436, -1.22977284],\n",
       "       [ 0.35565668, -0.93296754],\n",
       "       [ 1.60643134,  1.2728355 ],\n",
       "       [ 1.00216403, -0.98018657]])"
      ]
     },
     "execution_count": 21,
     "metadata": {},
     "output_type": "execute_result"
    }
   ],
   "source": [
    "from sklearn.preprocessing import StandardScaler\n",
    "sc=StandardScaler()\n",
    "x=sc.fit_transform(x)\n",
    "x"
   ]
  },
  {
   "cell_type": "code",
   "execution_count": 22,
   "metadata": {},
   "outputs": [],
   "source": [
    "x=pd.DataFrame(x)"
   ]
  },
  {
   "cell_type": "code",
   "execution_count": 23,
   "metadata": {},
   "outputs": [
    {
     "data": {
      "text/html": [
       "<div>\n",
       "<style scoped>\n",
       "    .dataframe tbody tr th:only-of-type {\n",
       "        vertical-align: middle;\n",
       "    }\n",
       "\n",
       "    .dataframe tbody tr th {\n",
       "        vertical-align: top;\n",
       "    }\n",
       "\n",
       "    .dataframe thead th {\n",
       "        text-align: right;\n",
       "    }\n",
       "</style>\n",
       "<table border=\"1\" class=\"dataframe\">\n",
       "  <thead>\n",
       "    <tr style=\"text-align: right;\">\n",
       "      <th></th>\n",
       "      <th>0</th>\n",
       "      <th>1</th>\n",
       "    </tr>\n",
       "  </thead>\n",
       "  <tbody>\n",
       "    <tr>\n",
       "      <th>0</th>\n",
       "      <td>0.978697</td>\n",
       "      <td>0.989521</td>\n",
       "    </tr>\n",
       "    <tr>\n",
       "      <th>1</th>\n",
       "      <td>-1.199012</td>\n",
       "      <td>1.090705</td>\n",
       "    </tr>\n",
       "    <tr>\n",
       "      <th>2</th>\n",
       "      <td>-1.519332</td>\n",
       "      <td>1.535913</td>\n",
       "    </tr>\n",
       "    <tr>\n",
       "      <th>3</th>\n",
       "      <td>0.056456</td>\n",
       "      <td>1.225616</td>\n",
       "    </tr>\n",
       "    <tr>\n",
       "      <th>4</th>\n",
       "      <td>0.400243</td>\n",
       "      <td>-0.831784</td>\n",
       "    </tr>\n",
       "  </tbody>\n",
       "</table>\n",
       "</div>"
      ],
      "text/plain": [
       "          0         1\n",
       "0  0.978697  0.989521\n",
       "1 -1.199012  1.090705\n",
       "2 -1.519332  1.535913\n",
       "3  0.056456  1.225616\n",
       "4  0.400243 -0.831784"
      ]
     },
     "execution_count": 23,
     "metadata": {},
     "output_type": "execute_result"
    }
   ],
   "source": [
    "x.head()"
   ]
  },
  {
   "cell_type": "code",
   "execution_count": 24,
   "metadata": {},
   "outputs": [],
   "source": [
    "from sklearn.metrics import mean_absolute_error\n",
    "from sklearn.metrics import mean_squared_error\n",
    "from sklearn.metrics import r2_score\n",
    "from sklearn.linear_model import LinearRegression"
   ]
  },
  {
   "cell_type": "code",
   "execution_count": 25,
   "metadata": {},
   "outputs": [],
   "source": [
    "from sklearn.model_selection import train_test_split\n",
    "x_train,x_test,y_train,y_test = train_test_split(x,y,random_state=42,test_size=0.20)"
   ]
  },
  {
   "cell_type": "code",
   "execution_count": 26,
   "metadata": {},
   "outputs": [
    {
     "name": "stdout",
     "output_type": "stream",
     "text": [
      "(158, 2)\n",
      "(158,)\n"
     ]
    }
   ],
   "source": [
    "print(x_train.shape)\n",
    "print(y_train.shape)"
   ]
  },
  {
   "cell_type": "code",
   "execution_count": 27,
   "metadata": {},
   "outputs": [
    {
     "data": {
      "text/plain": [
       "LinearRegression()"
      ]
     },
     "execution_count": 27,
     "metadata": {},
     "output_type": "execute_result"
    }
   ],
   "source": [
    "lr=LinearRegression()\n",
    "lr.fit(x_train,y_train)"
   ]
  },
  {
   "cell_type": "code",
   "execution_count": 28,
   "metadata": {},
   "outputs": [],
   "source": [
    "pred_lr=lr.predict(x_test)"
   ]
  },
  {
   "cell_type": "code",
   "execution_count": 29,
   "metadata": {},
   "outputs": [
    {
     "data": {
      "text/plain": [
       "0.9028883880054271"
      ]
     },
     "execution_count": 29,
     "metadata": {},
     "output_type": "execute_result"
    }
   ],
   "source": [
    "r2_score(y_test,pred_lr)"
   ]
  },
  {
   "cell_type": "code",
   "execution_count": 30,
   "metadata": {},
   "outputs": [],
   "source": [
    "x1=ds_fin.iloc[:,0:-1]\n",
    "y1=ds_fin.iloc[:,-1]"
   ]
  },
  {
   "cell_type": "code",
   "execution_count": 31,
   "metadata": {},
   "outputs": [
    {
     "name": "stdout",
     "output_type": "stream",
     "text": [
      "(198, 2)\n",
      "(198,)\n"
     ]
    }
   ],
   "source": [
    "print(x1.shape)\n",
    "print(y1.shape)"
   ]
  },
  {
   "cell_type": "code",
   "execution_count": 32,
   "metadata": {},
   "outputs": [],
   "source": [
    "r2_scr = 0\n",
    "random_state=0\n",
    "for i in range (42,100):\n",
    "    x1_train,x1_test,y1_train,y1_test = train_test_split(x1,y1,test_size = .20,random_state=i)\n",
    "    lr.fit(x1_train,y1_train)\n",
    "    pred_lr = lr.predict(x1_test)\n",
    "    x=r2_score(y1_test,pred_lr)\n",
    "    if x>r2_scr:\n",
    "        r2_scr = x\n",
    "        random_state=i"
   ]
  },
  {
   "cell_type": "code",
   "execution_count": 33,
   "metadata": {},
   "outputs": [
    {
     "name": "stdout",
     "output_type": "stream",
     "text": [
      "0.9478525634614251 90\n"
     ]
    }
   ],
   "source": [
    "print(r2_scr,random_state)"
   ]
  },
  {
   "cell_type": "code",
   "execution_count": 34,
   "metadata": {},
   "outputs": [
    {
     "name": "stdout",
     "output_type": "stream",
     "text": [
      "0.9894112710671552 50\n",
      "0.9818358136659583\n"
     ]
    }
   ],
   "source": [
    "from sklearn.ensemble import RandomForestRegressor\n",
    "rfr = RandomForestRegressor()\n",
    "r2_scr_rfr = 0\n",
    "random_state_rfr=0\n",
    "for i in range (42,100):\n",
    "    x1_train,x1_test,y1_train,y1_test = train_test_split(x1,y1,test_size = .20,random_state=i)\n",
    "    rfr.fit(x1_train,y1_train)\n",
    "    pred_rfr = rfr.predict(x1_test)\n",
    "    x=r2_score(y1_test,pred_rfr)\n",
    "    if x>r2_scr_rfr:\n",
    "        r2_scr_rfr = x\n",
    "        random_state_rfr=i\n",
    "print(r2_scr_rfr,random_state_rfr)\n",
    "print(r2_score(y1_test,pred_rfr))"
   ]
  },
  {
   "cell_type": "code",
   "execution_count": 37,
   "metadata": {},
   "outputs": [
    {
     "name": "stdout",
     "output_type": "stream",
     "text": [
      "[11.879  6.997 11.171  8.44   9.85  11.684 11.049 12.746 21.298 21.104\n",
      " 14.19  21.912  5.2   18.271 12.938  8.174 12.49  23.467 11.607 14.732\n",
      "  7.266  8.044 12.343 10.313 18.064 20.652 15.668 10.518 25.007 11.59\n",
      " 13.98  18.784 15.122 14.5   14.247 11.84   8.999 24.241 23.363 20.486]\n",
      "135    11.6\n",
      "119     6.6\n",
      "73     11.0\n",
      "66      9.5\n",
      "191     9.9\n",
      "50     11.4\n",
      "180    10.5\n",
      "67     13.4\n",
      "93     22.2\n",
      "137    20.8\n",
      "37     14.7\n",
      "47     23.2\n",
      "155     3.2\n",
      "41     17.1\n",
      "179    12.6\n",
      "195     7.6\n",
      "25     12.0\n",
      "128    24.7\n",
      "9      10.6\n",
      "87     16.0\n",
      "121     7.0\n",
      "44      8.5\n",
      "81     12.3\n",
      "51     10.7\n",
      "64     18.0\n",
      "52     22.6\n",
      "45     14.9\n",
      "145    10.3\n",
      "98     25.4\n",
      "144    11.4\n",
      "77     14.2\n",
      "14     19.0\n",
      "85     15.2\n",
      "169    15.0\n",
      "112    14.1\n",
      "82     11.3\n",
      "72      8.8\n",
      "147    25.4\n",
      "17     24.4\n",
      "54     20.2\n",
      "Name: sales, dtype: float64\n"
     ]
    }
   ],
   "source": [
    "print(pred_rfr)\n",
    "print(y1_test)"
   ]
  },
  {
   "cell_type": "code",
   "execution_count": 38,
   "metadata": {},
   "outputs": [
    {
     "data": {
      "text/plain": [
       "0.8877746326163092"
      ]
     },
     "execution_count": 38,
     "metadata": {},
     "output_type": "execute_result"
    }
   ],
   "source": [
    "from sklearn.model_selection import cross_val_score\n",
    "cross_val_score(lr,x1,y1,cv=5,scoring='r2').mean()"
   ]
  },
  {
   "cell_type": "code",
   "execution_count": 39,
   "metadata": {},
   "outputs": [
    {
     "data": {
      "text/plain": [
       "0.9787380230005432"
      ]
     },
     "execution_count": 39,
     "metadata": {},
     "output_type": "execute_result"
    }
   ],
   "source": [
    "from sklearn.model_selection import cross_val_score\n",
    "cross_val_score(rfr,x1,y1,cv=5,scoring='r2').mean()"
   ]
  },
  {
   "cell_type": "code",
   "execution_count": 40,
   "metadata": {},
   "outputs": [
    {
     "data": {
      "text/plain": [
       "['rfr_sales.pkl']"
      ]
     },
     "execution_count": 40,
     "metadata": {},
     "output_type": "execute_result"
    }
   ],
   "source": [
    "import joblib\n",
    "joblib.dump(lr,'lr_sales.pkl')\n",
    "joblib.dump(rfr,'rfr_sales.pkl')"
   ]
  },
  {
   "cell_type": "code",
   "execution_count": null,
   "metadata": {},
   "outputs": [],
   "source": []
  },
  {
   "cell_type": "code",
   "execution_count": null,
   "metadata": {},
   "outputs": [],
   "source": []
  }
 ],
 "metadata": {
  "kernelspec": {
   "display_name": "Python 3",
   "language": "python",
   "name": "python3"
  },
  "language_info": {
   "codemirror_mode": {
    "name": "ipython",
    "version": 3
   },
   "file_extension": ".py",
   "mimetype": "text/x-python",
   "name": "python",
   "nbconvert_exporter": "python",
   "pygments_lexer": "ipython3",
   "version": "3.8.3"
  }
 },
 "nbformat": 4,
 "nbformat_minor": 4
}
